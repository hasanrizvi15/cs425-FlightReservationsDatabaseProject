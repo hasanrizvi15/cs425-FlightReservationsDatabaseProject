{
 "cells": [
  {
   "cell_type": "markdown",
   "metadata": {},
   "source": [
    "### Notebook to view and add data. Also for testing scripts  "
   ]
  },
  {
   "cell_type": "code",
   "execution_count": 42,
   "metadata": {
    "collapsed": true
   },
   "outputs": [],
   "source": [
    "import psycopg2\n",
    "conn = psycopg2.connect(\"dbname=postgres user=zmckee host=cs425.cc0vhnbhtoib.us-east-2.rds.amazonaws.com \")\n"
   ]
  },
  {
   "cell_type": "code",
   "execution_count": 97,
   "metadata": {
    "collapsed": true
   },
   "outputs": [],
   "source": [
    "cursor = conn.cursor()"
   ]
  },
  {
   "cell_type": "code",
   "execution_count": 43,
   "metadata": {},
   "outputs": [
    {
     "name": "stdout",
     "output_type": "stream",
     "text": [
      "The sql extension is already loaded. To reload it, use:\n",
      "  %reload_ext sql\n"
     ]
    },
    {
     "data": {
      "text/plain": [
       "'Connected: zmckee@postgres_1'"
      ]
     },
     "execution_count": 43,
     "metadata": {},
     "output_type": "execute_result"
    }
   ],
   "source": [
    "%load_ext sql\n",
    "%sql postgresql://zmckee:K?JQRD5<G>TV8CX:A8;G@cs425.cc0vhnbhtoib.us-east-2.rds.amazonaws.com/postgres"
   ]
  },
  {
   "cell_type": "code",
   "execution_count": 39,
   "metadata": {},
   "outputs": [
    {
     "name": "stdout",
     "output_type": "stream",
     "text": [
      "8 rows affected.\n"
     ]
    },
    {
     "data": {
      "text/html": [
       "<table>\n",
       "    <tr>\n",
       "        <th>table_name</th>\n",
       "    </tr>\n",
       "    <tr>\n",
       "        <td>booking</td>\n",
       "    </tr>\n",
       "    <tr>\n",
       "        <td>booking_flight</td>\n",
       "    </tr>\n",
       "    <tr>\n",
       "        <td>airline</td>\n",
       "    </tr>\n",
       "    <tr>\n",
       "        <td>customer</td>\n",
       "    </tr>\n",
       "    <tr>\n",
       "        <td>flight</td>\n",
       "    </tr>\n",
       "    <tr>\n",
       "        <td>airport</td>\n",
       "    </tr>\n",
       "    <tr>\n",
       "        <td>address</td>\n",
       "    </tr>\n",
       "    <tr>\n",
       "        <td>creditcard</td>\n",
       "    </tr>\n",
       "</table>"
      ],
      "text/plain": [
       "[('booking',),\n",
       " ('booking_flight',),\n",
       " ('airline',),\n",
       " ('customer',),\n",
       " ('flight',),\n",
       " ('airport',),\n",
       " ('address',),\n",
       " ('creditcard',)]"
      ]
     },
     "execution_count": 39,
     "metadata": {},
     "output_type": "execute_result"
    }
   ],
   "source": [
    "%%sql\n",
    "\n",
    "SELECT table_name FROM information_schema.tables WHERE table_schema='public'"
   ]
  },
  {
   "cell_type": "code",
   "execution_count": 92,
   "metadata": {},
   "outputs": [
    {
     "name": "stdout",
     "output_type": "stream",
     "text": [
      "Done.\n",
      "Done.\n"
     ]
    },
    {
     "data": {
      "text/plain": [
       "[]"
      ]
     },
     "execution_count": 92,
     "metadata": {},
     "output_type": "execute_result"
    }
   ],
   "source": [
    "%%sql\n",
    "\n",
    "DROP TABLE booking_flight;\n",
    "\n",
    "CREATE TABLE booking_flight(\n",
    "    bookingID INTEGER,\n",
    "    airline_code VARCHAR(2),\n",
    "    flight_number NUMERIC,\n",
    "    flight_date\t DATE,\n",
    "    seats NUMERIC, \n",
    "    FOREIGN KEY (bookingID) REFERENCES booking (id),\n",
    "    FOREIGN KEY\t(airline_code,flight_number,flight_date) REFERENCES flight(airline_code,flight_number,flight_date)\n",
    ");"
   ]
  },
  {
   "cell_type": "code",
   "execution_count": 44,
   "metadata": {},
   "outputs": [
    {
     "name": "stdout",
     "output_type": "stream",
     "text": [
      "(psycopg2.ProgrammingError) relation \"booking\" already exists\n",
      " [SQL: 'CREATE TABLE booking(\\n    id SERIAL NOT NULL PRIMARY KEY,\\n    class VARCHAR,\\n    paymentCard NUMERIC,\\n    user_ VARCHAR,\\n    FOREIGN KEY (user_) REFERENCES customer (email), \\n    FOREIGN KEY (paymentCard) REFERENCES creditCard(number)\\n);']\n"
     ]
    }
   ],
   "source": [
    "%%sql\n",
    "\n",
    "CREATE TABLE booking(\n",
    "    id SERIAL NOT NULL PRIMARY KEY,\n",
    "    class VARCHAR,\n",
    "    paymentCard NUMERIC,\n",
    "    user_ VARCHAR,\n",
    "    FOREIGN KEY (user_) REFERENCES customer (email), \n",
    "    FOREIGN KEY (paymentCard) REFERENCES creditCard(number)\n",
    ");\n",
    "\n",
    "\n",
    "\n",
    "CREATE TABLE booking_flight(\n",
    "    bookingID INTEGER,\n",
    "    airline_code VARCHAR(2),\n",
    "    flight_number NUMERIC,\n",
    "    flight_date\t DATE,\n",
    "    FOREIGN KEY (bookingID) REFERENCES booking (id),\n",
    "    FOREIGN KEY\t(airline_code,flight_number,flight_date) REFERENCES flight(airline_code,flight_number,flight_date)\n",
    ");"
   ]
  },
  {
   "cell_type": "code",
   "execution_count": 93,
   "metadata": {},
   "outputs": [
    {
     "name": "stdout",
     "output_type": "stream",
     "text": [
      "6 rows affected.\n"
     ]
    },
    {
     "data": {
      "text/plain": [
       "[]"
      ]
     },
     "execution_count": 93,
     "metadata": {},
     "output_type": "execute_result"
    }
   ],
   "source": [
    "%%sql\n",
    "\n",
    "INSERT INTO flight VALUES \n",
    "('AA', 101, '2017-12-20', 'JFK', 'LAX', '03:00:00', '9:25:00', 15, 250, 600, 1200), \n",
    "('AA', 102, '2017-12-20', 'JFK', 'ORD', '03:00:00', '5:15:00', 15, 250, 100, 200), \n",
    "('AA', 103, '2017-12-20', 'JFK', 'DEN', '03:00:00', '7:00:00', 15, 250, 300, 600), \n",
    "('AA', 104, '2017-12-20', 'ORD', 'LAX', '06:00:00', '10:30:00', 15, 250, 300, 600), \n",
    "('AA', 105, '2017-12-20', 'ORD', 'DEN', '06:00:00', '8:45:00', 15, 250, 100, 200), \n",
    "('AA', 106, '2017-12-20', 'DEN', 'LAX', '09:30:00', '12:15:00', 15, 250, 100, 200)"
   ]
  },
  {
   "cell_type": "code",
   "execution_count": 99,
   "metadata": {},
   "outputs": [],
   "source": [
    "dates = ['2017-12-31'.format(x) for x in range(1,32)]"
   ]
  },
  {
   "cell_type": "code",
   "execution_count": 117,
   "metadata": {},
   "outputs": [
    {
     "name": "stdout",
     "output_type": "stream",
     "text": [
      "6 rows affected.\n"
     ]
    },
    {
     "data": {
      "text/plain": [
       "[]"
      ]
     },
     "execution_count": 117,
     "metadata": {},
     "output_type": "execute_result"
    }
   ],
   "source": [
    "%%sql\n",
    "INSERT INTO flight VALUES \n",
    "('AA', 201, '2017-12-31', 'LAX', 'JFK', '03:00:00', '9:25:00', 15, 250, 600, 1200), \n",
    "('AA', 202, '2017-12-31', 'ORD', 'JFK', '10:30:00', '12:45:00', 15, 250, 100, 200), \n",
    "('AA', 203, '2017-12-31', 'DEN', 'JFK', '07:00:00', '11:00:00', 15, 250, 300, 600), \n",
    "('AA', 204, '2017-12-31', 'LAX', 'ORD', '03:00:00', '07:30:00', 15, 250, 300, 600), \n",
    "('AA', 205, '2017-12-31', 'DEN', 'ORD', '07:00:00', '09:45:00', 15, 250, 100, 200), \n",
    "('AA', 206, '2017-12-31', 'LAX', 'DEN', '03:00:00', '06:15:00', 15, 250, 100, 200)"
   ]
  },
  {
   "cell_type": "code",
   "execution_count": 123,
   "metadata": {},
   "outputs": [
    {
     "name": "stdout",
     "output_type": "stream",
     "text": [
      "4 rows affected.\n"
     ]
    },
    {
     "data": {
      "text/html": [
       "<table>\n",
       "    <tr>\n",
       "        <th>f_codes</th>\n",
       "        <th>frm</th>\n",
       "        <th>dest</th>\n",
       "        <th>hops</th>\n",
       "        <th>price</th>\n",
       "        <th>airtime</th>\n",
       "        <th>arrival</th>\n",
       "    </tr>\n",
       "    <tr>\n",
       "        <td>AA101</td>\n",
       "        <td>JFK</td>\n",
       "        <td>LAX</td>\n",
       "        <td>1</td>\n",
       "        <td>600</td>\n",
       "        <td>6:25:00</td>\n",
       "        <td>09:25:00</td>\n",
       "    </tr>\n",
       "    <tr>\n",
       "        <td>AA102-AA104</td>\n",
       "        <td>JFK</td>\n",
       "        <td>LAX</td>\n",
       "        <td>2</td>\n",
       "        <td>400</td>\n",
       "        <td>6:45:00</td>\n",
       "        <td>10:30:00</td>\n",
       "    </tr>\n",
       "    <tr>\n",
       "        <td>AA103-AA106</td>\n",
       "        <td>JFK</td>\n",
       "        <td>LAX</td>\n",
       "        <td>2</td>\n",
       "        <td>400</td>\n",
       "        <td>6:45:00</td>\n",
       "        <td>12:15:00</td>\n",
       "    </tr>\n",
       "    <tr>\n",
       "        <td>AA102-AA105-AA106</td>\n",
       "        <td>JFK</td>\n",
       "        <td>LAX</td>\n",
       "        <td>3</td>\n",
       "        <td>300</td>\n",
       "        <td>7:45:00</td>\n",
       "        <td>12:15:00</td>\n",
       "    </tr>\n",
       "</table>"
      ],
      "text/plain": [
       "[('AA101', 'JFK', 'LAX', 1, Decimal('600'), datetime.timedelta(0, 23100), datetime.time(9, 25)),\n",
       " ('AA102-AA104', 'JFK', 'LAX', 2, Decimal('400'), datetime.timedelta(0, 24300), datetime.time(10, 30)),\n",
       " ('AA103-AA106', 'JFK', 'LAX', 2, Decimal('400'), datetime.timedelta(0, 24300), datetime.time(12, 15)),\n",
       " ('AA102-AA105-AA106', 'JFK', 'LAX', 3, Decimal('300'), datetime.timedelta(0, 27900), datetime.time(12, 15))]"
      ]
     },
     "execution_count": 123,
     "metadata": {},
     "output_type": "execute_result"
    }
   ],
   "source": [
    "%%sql\n",
    "\n",
    "WITH RECURSIVE connections(f_codes, frm, dest, hops, price, airtime, arrival) AS (\n",
    "  SELECT    airline_code || flight_number::text AS f_codes,\n",
    "            depart_loc, \n",
    "            dest_loc,\n",
    "            1 AS hops, \n",
    "            fc_price AS price,\n",
    "            (arrival_time - depart_time) AS airtime,\n",
    "            arrival_time\n",
    "  FROM flight f0\n",
    "  WHERE depart_loc = 'JFK' AND flight_date = '2017-12-20' \n",
    "  UNION ALL\n",
    "  SELECT con.f_codes || '-' || f1.airline_code || f1.flight_number::text as flight\n",
    "            , con.frm\n",
    "            , f1.dest_loc\n",
    "            , con.hops + 1 AS hops\n",
    "            , con.price + f1.fc_price as price\n",
    "            , (con.airtime + (f1.arrival_time - f1.depart_time)) AS total_time\n",
    "            , f1.arrival_time\n",
    "  FROM connections con\n",
    "     JOIN flight f1\n",
    "       ON f1.depart_loc = con.dest AND f1.flight_date = '2017-12-20'\n",
    "       AND f1.depart_time > con.arrival \n",
    ")\n",
    "SELECT *\n",
    "FROM connections\n",
    "WHERE dest = 'LAX' \n",
    "\n"
   ]
  },
  {
   "cell_type": "code",
   "execution_count": 120,
   "metadata": {},
   "outputs": [
    {
     "name": "stdout",
     "output_type": "stream",
     "text": [
      "21 rows affected.\n"
     ]
    },
    {
     "data": {
      "text/html": [
       "<table>\n",
       "    <tr>\n",
       "        <th>airtime</th>\n",
       "    </tr>\n",
       "    <tr>\n",
       "        <td>6:25:00</td>\n",
       "    </tr>\n",
       "    <tr>\n",
       "        <td>2:15:00</td>\n",
       "    </tr>\n",
       "    <tr>\n",
       "        <td>4:00:00</td>\n",
       "    </tr>\n",
       "    <tr>\n",
       "        <td>4:30:00</td>\n",
       "    </tr>\n",
       "    <tr>\n",
       "        <td>2:45:00</td>\n",
       "    </tr>\n",
       "    <tr>\n",
       "        <td>3:15:00</td>\n",
       "    </tr>\n",
       "    <tr>\n",
       "        <td>3:00:00</td>\n",
       "    </tr>\n",
       "    <tr>\n",
       "        <td>1:57:00</td>\n",
       "    </tr>\n",
       "    <tr>\n",
       "        <td>0:50:00</td>\n",
       "    </tr>\n",
       "    <tr>\n",
       "        <td>6:25:00</td>\n",
       "    </tr>\n",
       "    <tr>\n",
       "        <td>2:15:00</td>\n",
       "    </tr>\n",
       "    <tr>\n",
       "        <td>4:00:00</td>\n",
       "    </tr>\n",
       "    <tr>\n",
       "        <td>4:30:00</td>\n",
       "    </tr>\n",
       "    <tr>\n",
       "        <td>2:45:00</td>\n",
       "    </tr>\n",
       "    <tr>\n",
       "        <td>2:45:00</td>\n",
       "    </tr>\n",
       "    <tr>\n",
       "        <td>6:25:00</td>\n",
       "    </tr>\n",
       "    <tr>\n",
       "        <td>2:15:00</td>\n",
       "    </tr>\n",
       "    <tr>\n",
       "        <td>4:00:00</td>\n",
       "    </tr>\n",
       "    <tr>\n",
       "        <td>4:30:00</td>\n",
       "    </tr>\n",
       "    <tr>\n",
       "        <td>2:45:00</td>\n",
       "    </tr>\n",
       "    <tr>\n",
       "        <td>2:45:00</td>\n",
       "    </tr>\n",
       "</table>"
      ],
      "text/plain": [
       "[(datetime.timedelta(0, 23100),),\n",
       " (datetime.timedelta(0, 8100),),\n",
       " (datetime.timedelta(0, 14400),),\n",
       " (datetime.timedelta(0, 16200),),\n",
       " (datetime.timedelta(0, 9900),),\n",
       " (datetime.timedelta(0, 11700),),\n",
       " (datetime.timedelta(0, 10800),),\n",
       " (datetime.timedelta(0, 7020),),\n",
       " (datetime.timedelta(0, 3000),),\n",
       " (datetime.timedelta(0, 23100),),\n",
       " (datetime.timedelta(0, 8100),),\n",
       " (datetime.timedelta(0, 14400),),\n",
       " (datetime.timedelta(0, 16200),),\n",
       " (datetime.timedelta(0, 9900),),\n",
       " (datetime.timedelta(0, 9900),),\n",
       " (datetime.timedelta(0, 23100),),\n",
       " (datetime.timedelta(0, 8100),),\n",
       " (datetime.timedelta(0, 14400),),\n",
       " (datetime.timedelta(0, 16200),),\n",
       " (datetime.timedelta(0, 9900),),\n",
       " (datetime.timedelta(0, 9900),)]"
      ]
     },
     "execution_count": 120,
     "metadata": {},
     "output_type": "execute_result"
    }
   ],
   "source": [
    "%%sql\n",
    "SELECT (arrival_time - depart_time) AS airtime FROM flight"
   ]
  },
  {
   "cell_type": "code",
   "execution_count": 118,
   "metadata": {},
   "outputs": [
    {
     "name": "stdout",
     "output_type": "stream",
     "text": [
      "21 rows affected.\n"
     ]
    },
    {
     "data": {
      "text/html": [
       "<table>\n",
       "    <tr>\n",
       "        <th>airline_code</th>\n",
       "        <th>flight_number</th>\n",
       "        <th>flight_date</th>\n",
       "        <th>depart_loc</th>\n",
       "        <th>dest_loc</th>\n",
       "        <th>depart_time</th>\n",
       "        <th>arrival_time</th>\n",
       "        <th>fc_capacity</th>\n",
       "        <th>econ_capacity</th>\n",
       "        <th>fc_price</th>\n",
       "        <th>econ_price</th>\n",
       "    </tr>\n",
       "    <tr>\n",
       "        <td>AA</td>\n",
       "        <td>201</td>\n",
       "        <td>2017-12-31</td>\n",
       "        <td>LAX</td>\n",
       "        <td>JFK</td>\n",
       "        <td>03:00:00</td>\n",
       "        <td>09:25:00</td>\n",
       "        <td>15</td>\n",
       "        <td>250</td>\n",
       "        <td>600</td>\n",
       "        <td>1200</td>\n",
       "    </tr>\n",
       "    <tr>\n",
       "        <td>AA</td>\n",
       "        <td>202</td>\n",
       "        <td>2017-12-31</td>\n",
       "        <td>ORD</td>\n",
       "        <td>JFK</td>\n",
       "        <td>10:30:00</td>\n",
       "        <td>12:45:00</td>\n",
       "        <td>15</td>\n",
       "        <td>250</td>\n",
       "        <td>100</td>\n",
       "        <td>200</td>\n",
       "    </tr>\n",
       "    <tr>\n",
       "        <td>AA</td>\n",
       "        <td>203</td>\n",
       "        <td>2017-12-31</td>\n",
       "        <td>DEN</td>\n",
       "        <td>JFK</td>\n",
       "        <td>07:00:00</td>\n",
       "        <td>11:00:00</td>\n",
       "        <td>15</td>\n",
       "        <td>250</td>\n",
       "        <td>300</td>\n",
       "        <td>600</td>\n",
       "    </tr>\n",
       "    <tr>\n",
       "        <td>AA</td>\n",
       "        <td>204</td>\n",
       "        <td>2017-12-31</td>\n",
       "        <td>LAX</td>\n",
       "        <td>ORD</td>\n",
       "        <td>03:00:00</td>\n",
       "        <td>07:30:00</td>\n",
       "        <td>15</td>\n",
       "        <td>250</td>\n",
       "        <td>300</td>\n",
       "        <td>600</td>\n",
       "    </tr>\n",
       "    <tr>\n",
       "        <td>AA</td>\n",
       "        <td>205</td>\n",
       "        <td>2017-12-31</td>\n",
       "        <td>DEN</td>\n",
       "        <td>ORD</td>\n",
       "        <td>07:00:00</td>\n",
       "        <td>09:45:00</td>\n",
       "        <td>15</td>\n",
       "        <td>250</td>\n",
       "        <td>100</td>\n",
       "        <td>200</td>\n",
       "    </tr>\n",
       "    <tr>\n",
       "        <td>AA</td>\n",
       "        <td>206</td>\n",
       "        <td>2017-12-31</td>\n",
       "        <td>LAX</td>\n",
       "        <td>DEN</td>\n",
       "        <td>03:00:00</td>\n",
       "        <td>06:15:00</td>\n",
       "        <td>15</td>\n",
       "        <td>250</td>\n",
       "        <td>100</td>\n",
       "        <td>200</td>\n",
       "    </tr>\n",
       "    <tr>\n",
       "        <td>AA</td>\n",
       "        <td>1</td>\n",
       "        <td>2017-10-31</td>\n",
       "        <td>ORD</td>\n",
       "        <td>SEA</td>\n",
       "        <td>05:00:00</td>\n",
       "        <td>08:00:00</td>\n",
       "        <td>20</td>\n",
       "        <td>160</td>\n",
       "        <td>5000</td>\n",
       "        <td>280</td>\n",
       "    </tr>\n",
       "    <tr>\n",
       "        <td>AA</td>\n",
       "        <td>1330</td>\n",
       "        <td>2017-12-26</td>\n",
       "        <td>ORD</td>\n",
       "        <td>CLT</td>\n",
       "        <td>18:26:00</td>\n",
       "        <td>20:23:00</td>\n",
       "        <td>None</td>\n",
       "        <td>144</td>\n",
       "        <td>251</td>\n",
       "        <td>113</td>\n",
       "    </tr>\n",
       "    <tr>\n",
       "        <td>AA</td>\n",
       "        <td>5709</td>\n",
       "        <td>2017-12-27</td>\n",
       "        <td>CLT</td>\n",
       "        <td>EWN</td>\n",
       "        <td>00:05:00</td>\n",
       "        <td>00:55:00</td>\n",
       "        <td>9</td>\n",
       "        <td>56</td>\n",
       "        <td>200</td>\n",
       "        <td>105</td>\n",
       "    </tr>\n",
       "    <tr>\n",
       "        <td>AA</td>\n",
       "        <td>101</td>\n",
       "        <td>2017-12-31</td>\n",
       "        <td>JFK</td>\n",
       "        <td>LAX</td>\n",
       "        <td>03:00:00</td>\n",
       "        <td>09:25:00</td>\n",
       "        <td>15</td>\n",
       "        <td>250</td>\n",
       "        <td>600</td>\n",
       "        <td>1200</td>\n",
       "    </tr>\n",
       "    <tr>\n",
       "        <td>AA</td>\n",
       "        <td>102</td>\n",
       "        <td>2017-12-31</td>\n",
       "        <td>JFK</td>\n",
       "        <td>ORD</td>\n",
       "        <td>03:00:00</td>\n",
       "        <td>05:15:00</td>\n",
       "        <td>15</td>\n",
       "        <td>250</td>\n",
       "        <td>100</td>\n",
       "        <td>200</td>\n",
       "    </tr>\n",
       "    <tr>\n",
       "        <td>AA</td>\n",
       "        <td>103</td>\n",
       "        <td>2017-12-31</td>\n",
       "        <td>JFK</td>\n",
       "        <td>DEN</td>\n",
       "        <td>03:00:00</td>\n",
       "        <td>07:00:00</td>\n",
       "        <td>15</td>\n",
       "        <td>250</td>\n",
       "        <td>300</td>\n",
       "        <td>600</td>\n",
       "    </tr>\n",
       "    <tr>\n",
       "        <td>AA</td>\n",
       "        <td>104</td>\n",
       "        <td>2017-12-31</td>\n",
       "        <td>ORD</td>\n",
       "        <td>LAX</td>\n",
       "        <td>06:00:00</td>\n",
       "        <td>10:30:00</td>\n",
       "        <td>15</td>\n",
       "        <td>250</td>\n",
       "        <td>300</td>\n",
       "        <td>600</td>\n",
       "    </tr>\n",
       "    <tr>\n",
       "        <td>AA</td>\n",
       "        <td>105</td>\n",
       "        <td>2017-12-31</td>\n",
       "        <td>ORD</td>\n",
       "        <td>DEN</td>\n",
       "        <td>06:00:00</td>\n",
       "        <td>08:45:00</td>\n",
       "        <td>15</td>\n",
       "        <td>250</td>\n",
       "        <td>100</td>\n",
       "        <td>200</td>\n",
       "    </tr>\n",
       "    <tr>\n",
       "        <td>AA</td>\n",
       "        <td>106</td>\n",
       "        <td>2017-12-31</td>\n",
       "        <td>DEN</td>\n",
       "        <td>LAX</td>\n",
       "        <td>09:30:00</td>\n",
       "        <td>12:15:00</td>\n",
       "        <td>15</td>\n",
       "        <td>250</td>\n",
       "        <td>100</td>\n",
       "        <td>200</td>\n",
       "    </tr>\n",
       "    <tr>\n",
       "        <td>AA</td>\n",
       "        <td>101</td>\n",
       "        <td>2017-12-20</td>\n",
       "        <td>JFK</td>\n",
       "        <td>LAX</td>\n",
       "        <td>03:00:00</td>\n",
       "        <td>09:25:00</td>\n",
       "        <td>15</td>\n",
       "        <td>250</td>\n",
       "        <td>600</td>\n",
       "        <td>1200</td>\n",
       "    </tr>\n",
       "    <tr>\n",
       "        <td>AA</td>\n",
       "        <td>102</td>\n",
       "        <td>2017-12-20</td>\n",
       "        <td>JFK</td>\n",
       "        <td>ORD</td>\n",
       "        <td>03:00:00</td>\n",
       "        <td>05:15:00</td>\n",
       "        <td>15</td>\n",
       "        <td>250</td>\n",
       "        <td>100</td>\n",
       "        <td>200</td>\n",
       "    </tr>\n",
       "    <tr>\n",
       "        <td>AA</td>\n",
       "        <td>103</td>\n",
       "        <td>2017-12-20</td>\n",
       "        <td>JFK</td>\n",
       "        <td>DEN</td>\n",
       "        <td>03:00:00</td>\n",
       "        <td>07:00:00</td>\n",
       "        <td>15</td>\n",
       "        <td>250</td>\n",
       "        <td>300</td>\n",
       "        <td>600</td>\n",
       "    </tr>\n",
       "    <tr>\n",
       "        <td>AA</td>\n",
       "        <td>104</td>\n",
       "        <td>2017-12-20</td>\n",
       "        <td>ORD</td>\n",
       "        <td>LAX</td>\n",
       "        <td>06:00:00</td>\n",
       "        <td>10:30:00</td>\n",
       "        <td>15</td>\n",
       "        <td>250</td>\n",
       "        <td>300</td>\n",
       "        <td>600</td>\n",
       "    </tr>\n",
       "    <tr>\n",
       "        <td>AA</td>\n",
       "        <td>105</td>\n",
       "        <td>2017-12-20</td>\n",
       "        <td>ORD</td>\n",
       "        <td>DEN</td>\n",
       "        <td>06:00:00</td>\n",
       "        <td>08:45:00</td>\n",
       "        <td>15</td>\n",
       "        <td>250</td>\n",
       "        <td>100</td>\n",
       "        <td>200</td>\n",
       "    </tr>\n",
       "    <tr>\n",
       "        <td>AA</td>\n",
       "        <td>106</td>\n",
       "        <td>2017-12-20</td>\n",
       "        <td>DEN</td>\n",
       "        <td>LAX</td>\n",
       "        <td>09:30:00</td>\n",
       "        <td>12:15:00</td>\n",
       "        <td>15</td>\n",
       "        <td>250</td>\n",
       "        <td>100</td>\n",
       "        <td>200</td>\n",
       "    </tr>\n",
       "</table>"
      ],
      "text/plain": [
       "[('AA', Decimal('201'), datetime.date(2017, 12, 31), 'LAX', 'JFK', datetime.time(3, 0), datetime.time(9, 25), Decimal('15'), Decimal('250'), Decimal('600'), Decimal('1200')),\n",
       " ('AA', Decimal('202'), datetime.date(2017, 12, 31), 'ORD', 'JFK', datetime.time(10, 30), datetime.time(12, 45), Decimal('15'), Decimal('250'), Decimal('100'), Decimal('200')),\n",
       " ('AA', Decimal('203'), datetime.date(2017, 12, 31), 'DEN', 'JFK', datetime.time(7, 0), datetime.time(11, 0), Decimal('15'), Decimal('250'), Decimal('300'), Decimal('600')),\n",
       " ('AA', Decimal('204'), datetime.date(2017, 12, 31), 'LAX', 'ORD', datetime.time(3, 0), datetime.time(7, 30), Decimal('15'), Decimal('250'), Decimal('300'), Decimal('600')),\n",
       " ('AA', Decimal('205'), datetime.date(2017, 12, 31), 'DEN', 'ORD', datetime.time(7, 0), datetime.time(9, 45), Decimal('15'), Decimal('250'), Decimal('100'), Decimal('200')),\n",
       " ('AA', Decimal('206'), datetime.date(2017, 12, 31), 'LAX', 'DEN', datetime.time(3, 0), datetime.time(6, 15), Decimal('15'), Decimal('250'), Decimal('100'), Decimal('200')),\n",
       " ('AA', Decimal('1'), datetime.date(2017, 10, 31), 'ORD', 'SEA', datetime.time(5, 0), datetime.time(8, 0), Decimal('20'), Decimal('160'), Decimal('5000'), Decimal('280')),\n",
       " ('AA', Decimal('1330'), datetime.date(2017, 12, 26), 'ORD', 'CLT', datetime.time(18, 26), datetime.time(20, 23), None, Decimal('144'), Decimal('251'), Decimal('113')),\n",
       " ('AA', Decimal('5709'), datetime.date(2017, 12, 27), 'CLT', 'EWN', datetime.time(0, 5), datetime.time(0, 55), Decimal('9'), Decimal('56'), Decimal('200'), Decimal('105')),\n",
       " ('AA', Decimal('101'), datetime.date(2017, 12, 31), 'JFK', 'LAX', datetime.time(3, 0), datetime.time(9, 25), Decimal('15'), Decimal('250'), Decimal('600'), Decimal('1200')),\n",
       " ('AA', Decimal('102'), datetime.date(2017, 12, 31), 'JFK', 'ORD', datetime.time(3, 0), datetime.time(5, 15), Decimal('15'), Decimal('250'), Decimal('100'), Decimal('200')),\n",
       " ('AA', Decimal('103'), datetime.date(2017, 12, 31), 'JFK', 'DEN', datetime.time(3, 0), datetime.time(7, 0), Decimal('15'), Decimal('250'), Decimal('300'), Decimal('600')),\n",
       " ('AA', Decimal('104'), datetime.date(2017, 12, 31), 'ORD', 'LAX', datetime.time(6, 0), datetime.time(10, 30), Decimal('15'), Decimal('250'), Decimal('300'), Decimal('600')),\n",
       " ('AA', Decimal('105'), datetime.date(2017, 12, 31), 'ORD', 'DEN', datetime.time(6, 0), datetime.time(8, 45), Decimal('15'), Decimal('250'), Decimal('100'), Decimal('200')),\n",
       " ('AA', Decimal('106'), datetime.date(2017, 12, 31), 'DEN', 'LAX', datetime.time(9, 30), datetime.time(12, 15), Decimal('15'), Decimal('250'), Decimal('100'), Decimal('200')),\n",
       " ('AA', Decimal('101'), datetime.date(2017, 12, 20), 'JFK', 'LAX', datetime.time(3, 0), datetime.time(9, 25), Decimal('15'), Decimal('250'), Decimal('600'), Decimal('1200')),\n",
       " ('AA', Decimal('102'), datetime.date(2017, 12, 20), 'JFK', 'ORD', datetime.time(3, 0), datetime.time(5, 15), Decimal('15'), Decimal('250'), Decimal('100'), Decimal('200')),\n",
       " ('AA', Decimal('103'), datetime.date(2017, 12, 20), 'JFK', 'DEN', datetime.time(3, 0), datetime.time(7, 0), Decimal('15'), Decimal('250'), Decimal('300'), Decimal('600')),\n",
       " ('AA', Decimal('104'), datetime.date(2017, 12, 20), 'ORD', 'LAX', datetime.time(6, 0), datetime.time(10, 30), Decimal('15'), Decimal('250'), Decimal('300'), Decimal('600')),\n",
       " ('AA', Decimal('105'), datetime.date(2017, 12, 20), 'ORD', 'DEN', datetime.time(6, 0), datetime.time(8, 45), Decimal('15'), Decimal('250'), Decimal('100'), Decimal('200')),\n",
       " ('AA', Decimal('106'), datetime.date(2017, 12, 20), 'DEN', 'LAX', datetime.time(9, 30), datetime.time(12, 15), Decimal('15'), Decimal('250'), Decimal('100'), Decimal('200'))]"
      ]
     },
     "execution_count": 118,
     "metadata": {},
     "output_type": "execute_result"
    }
   ],
   "source": [
    "%%sql\n",
    "SELECT * from flight"
   ]
  },
  {
   "cell_type": "code",
   "execution_count": null,
   "metadata": {
    "collapsed": true
   },
   "outputs": [],
   "source": [
    "%%sql"
   ]
  },
  {
   "cell_type": "code",
   "execution_count": null,
   "metadata": {
    "collapsed": true
   },
   "outputs": [],
   "source": [
    "%%sql"
   ]
  },
  {
   "cell_type": "code",
   "execution_count": null,
   "metadata": {
    "collapsed": true
   },
   "outputs": [],
   "source": [
    "%%sql"
   ]
  },
  {
   "cell_type": "code",
   "execution_count": null,
   "metadata": {
    "collapsed": true
   },
   "outputs": [],
   "source": [
    "%%sql"
   ]
  },
  {
   "cell_type": "code",
   "execution_count": null,
   "metadata": {
    "collapsed": true
   },
   "outputs": [],
   "source": [
    "%%sql"
   ]
  }
 ],
 "metadata": {
  "kernelspec": {
   "display_name": "Python 3",
   "language": "python",
   "name": "python3"
  },
  "language_info": {
   "codemirror_mode": {
    "name": "ipython",
    "version": 3
   },
   "file_extension": ".py",
   "mimetype": "text/x-python",
   "name": "python",
   "nbconvert_exporter": "python",
   "pygments_lexer": "ipython3",
   "version": "3.6.1"
  }
 },
 "nbformat": 4,
 "nbformat_minor": 2
}
